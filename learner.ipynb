{
 "cells": [
  {
   "cell_type": "code",
   "execution_count": 15,
   "id": "7fbcf4a6",
   "metadata": {},
   "outputs": [],
   "source": [
    "# tab_diffusion_demo.py\n",
    "\"\"\"\n",
    "Mini TabDiffusion demo.\n",
    "- Generates toy tabular data\n",
    "- Trains a simple denoising model\n",
    "- Samples synthetic rows\n",
    "\n",
    "Dependencies:\n",
    "    pip install torch numpy pandas scikit-learn\n",
    "\"\"\"\n",
    "\n",
    "import torch\n",
    "import torch.nn as nn\n",
    "import torch.optim as optim\n",
    "import numpy as np\n",
    "import pandas as pd\n",
    "from sklearn.preprocessing import MinMaxScaler\n",
    "\n",
    "# -----------------------------\n",
    "# 1. Create toy tabular dataset\n",
    "# -----------------------------\n",
    "np.random.seed(42)\n",
    "n_samples = 500\n",
    "\n",
    "# Example: age, income, binary gender\n",
    "age = np.random.normal(40, 12, n_samples)\n",
    "income = np.random.normal(50000, 15000, n_samples)\n",
    "gender = np.random.binomial(1, 0.5, n_samples)  # 0=female, 1=male\n",
    "\n",
    "data = np.stack([age, income, gender], axis=1)\n",
    "scaler = MinMaxScaler()\n",
    "data = scaler.fit_transform(data)  # scale to [0,1]\n",
    "\n",
    "data = torch.tensor(data, dtype=torch.float32)\n"
   ]
  },
  {
   "cell_type": "code",
   "execution_count": 16,
   "id": "9904ede6",
   "metadata": {},
   "outputs": [],
   "source": [
    "# -----------------------------\n",
    "# 2. Define forward diffusion\n",
    "# -----------------------------\n",
    "def q_sample(x0, t, noise):\n",
    "    \"\"\"\n",
    "    Diffuse the data (add Gaussian noise) at step t.\n",
    "    \"\"\"\n",
    "    # Linear beta schedule\n",
    "    betas = torch.linspace(1e-4, 0.02, steps=T)\n",
    "    alphas = 1.0 - betas\n",
    "    alphas_bar = torch.cumprod(alphas, dim=0)\n",
    "\n",
    "    sqrt_ab = torch.sqrt(alphas_bar[t])[:, None]\n",
    "    sqrt_one_minus_ab = torch.sqrt(1 - alphas_bar[t])[:, None]\n",
    "\n",
    "    return sqrt_ab * x0 + sqrt_one_minus_ab * noise\n"
   ]
  },
  {
   "cell_type": "code",
   "execution_count": 17,
   "id": "9fe78caf",
   "metadata": {},
   "outputs": [],
   "source": [
    "# -----------------------------\n",
    "# 3. Simple denoising model\n",
    "# -----------------------------\n",
    "class DenoiseMLP(nn.Module):\n",
    "    def __init__(self, dim, hidden=64):\n",
    "        super().__init__()\n",
    "        self.net = nn.Sequential(\n",
    "            nn.Linear(dim + 1, hidden),\n",
    "            nn.ReLU(),\n",
    "            nn.Linear(hidden, hidden),\n",
    "            nn.ReLU(),\n",
    "            nn.Linear(hidden, dim)\n",
    "        )\n",
    "\n",
    "    def forward(self, x, t):\n",
    "        # append time embedding (scaled)\n",
    "        t = t.float().unsqueeze(1) / T\n",
    "        xt = torch.cat([x, t], dim=1)\n",
    "        return self.net(xt)\n"
   ]
  },
  {
   "cell_type": "code",
   "execution_count": 18,
   "id": "b7df8f6b",
   "metadata": {},
   "outputs": [
    {
     "name": "stdout",
     "output_type": "stream",
     "text": [
      "Epoch 0, Loss 1.0804\n",
      "Epoch 50, Loss 0.4121\n",
      "Epoch 100, Loss 0.3700\n",
      "Epoch 150, Loss 0.2913\n"
     ]
    }
   ],
   "source": [
    "# -----------------------------\n",
    "# 4. Training loop\n",
    "# -----------------------------\n",
    "T = 100  # number of diffusion steps\n",
    "model = DenoiseMLP(dim=data.shape[1])\n",
    "opt = optim.Adam(model.parameters(), lr=1e-3)\n",
    "loss_fn = nn.MSELoss()\n",
    "\n",
    "for epoch in range(200):\n",
    "    idx = torch.randint(0, data.shape[0], (64,))\n",
    "    x0 = data[idx]\n",
    "    t = torch.randint(0, T, (64,))\n",
    "    noise = torch.randn_like(x0)\n",
    "    xt = q_sample(x0, t, noise)\n",
    "\n",
    "    pred_noise = model(xt, t)\n",
    "    loss = loss_fn(pred_noise, noise)\n",
    "\n",
    "    opt.zero_grad()\n",
    "    loss.backward()\n",
    "    opt.step()\n",
    "\n",
    "    if epoch % 50 == 0:\n",
    "        print(f\"Epoch {epoch}, Loss {loss.item():.4f}\")"
   ]
  },
  {
   "cell_type": "code",
   "execution_count": 19,
   "id": "e2c04432",
   "metadata": {},
   "outputs": [],
   "source": [
    "# -----------------------------\n",
    "# 5. Sampling new synthetic data\n",
    "# -----------------------------\n",
    "@torch.no_grad()\n",
    "def p_sample_loop(n_samples=10):\n",
    "    x = torch.randn(n_samples, data.shape[1])\n",
    "    betas = torch.linspace(1e-4, 0.02, steps=T)\n",
    "    alphas = 1.0 - betas\n",
    "    alphas_bar = torch.cumprod(alphas, dim=0)\n",
    "\n",
    "    for t in reversed(range(T)):\n",
    "        t_batch = torch.full((n_samples,), t)\n",
    "        noise_pred = model(x, t_batch)\n",
    "        alpha = alphas[t]\n",
    "        alpha_bar = alphas_bar[t]\n",
    "\n",
    "        x = (1 / torch.sqrt(alpha)) * (\n",
    "            x - (1 - alpha) / torch.sqrt(1 - alpha_bar) * noise_pred\n",
    "        )\n",
    "        if t > 0:\n",
    "            x += torch.sqrt(betas[t]) * torch.randn_like(x)\n",
    "    return x\n",
    "\n",
    "synthetic = p_sample_loop(5).numpy()\n",
    "synthetic = scaler.inverse_transform(synthetic)\n"
   ]
  },
  {
   "cell_type": "code",
   "execution_count": null,
   "id": "b455e4fd",
   "metadata": {},
   "outputs": [],
   "source": []
  }
 ],
 "metadata": {
  "kernelspec": {
   "display_name": "smartchp",
   "language": "python",
   "name": "python3"
  },
  "language_info": {
   "codemirror_mode": {
    "name": "ipython",
    "version": 3
   },
   "file_extension": ".py",
   "mimetype": "text/x-python",
   "name": "python",
   "nbconvert_exporter": "python",
   "pygments_lexer": "ipython3",
   "version": "3.11.13"
  }
 },
 "nbformat": 4,
 "nbformat_minor": 5
}
